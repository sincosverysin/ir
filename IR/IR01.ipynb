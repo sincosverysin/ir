{
 "cells": [
  {
   "cell_type": "code",
   "execution_count": 2,
   "metadata": {
    "executionInfo": {
     "elapsed": 2490,
     "status": "ok",
     "timestamp": 1633664002613,
     "user": {
      "displayName": "李冠緯",
      "photoUrl": "https://lh3.googleusercontent.com/a/default-user=s64",
      "userId": "05109669958431367164"
     },
     "user_tz": -480
    },
    "id": "z71SXUk3J-Pi"
   },
   "outputs": [],
   "source": [
    "import nltk.tokenize\n",
    "import xml.etree.ElementTree as ET\n",
    "import json"
   ]
  },
  {
   "cell_type": "code",
   "execution_count": 3,
   "metadata": {
    "colab": {
     "base_uri": "https://localhost:8080/"
    },
    "executionInfo": {
     "elapsed": 1448,
     "status": "ok",
     "timestamp": 1633664006589,
     "user": {
      "displayName": "李冠緯",
      "photoUrl": "https://lh3.googleusercontent.com/a/default-user=s64",
      "userId": "05109669958431367164"
     },
     "user_tz": -480
    },
    "id": "IsaDD0JlThEP",
    "outputId": "0b42a8dd-3372-4737-9060-33972804a1e3"
   },
   "outputs": [
    {
     "name": "stdout",
     "output_type": "stream",
     "text": [
      "[nltk_data] Downloading package punkt to /root/nltk_data...\n",
      "[nltk_data]   Unzipping tokenizers/punkt.zip.\n"
     ]
    }
   ],
   "source": [
    "nltk.download('punkt')\n",
    "from nltk.tokenize import word_tokenize, sent_tokenize "
   ]
  },
  {
   "cell_type": "code",
   "execution_count": 4,
   "metadata": {
    "executionInfo": {
     "elapsed": 5,
     "status": "ok",
     "timestamp": 1633664008808,
     "user": {
      "displayName": "李冠緯",
      "photoUrl": "https://lh3.googleusercontent.com/a/default-user=s64",
      "userId": "05109669958431367164"
     },
     "user_tz": -480
    },
    "id": "ZU6tayb5azFG"
   },
   "outputs": [],
   "source": [
    "import re"
   ]
  },
  {
   "cell_type": "code",
   "execution_count": 6,
   "metadata": {
    "colab": {
     "base_uri": "https://localhost:8080/",
     "height": 75,
     "resources": {
      "http://localhost:8080/nbextensions/google.colab/files.js": {
       "data": "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",
       "headers": [
        [
         "content-type",
         "application/javascript"
        ]
       ],
       "ok": true,
       "status": 200,
       "status_text": ""
      }
     }
    },
    "executionInfo": {
     "elapsed": 36620,
     "status": "ok",
     "timestamp": 1633664056943,
     "user": {
      "displayName": "李冠緯",
      "photoUrl": "https://lh3.googleusercontent.com/a/default-user=s64",
      "userId": "05109669958431367164"
     },
     "user_tz": -480
    },
    "id": "CfOPCrwh9ip5",
    "outputId": "ec8ffe56-214a-4b58-c289-ca8bb17fb20e"
   },
   "outputs": [
    {
     "data": {
      "text/html": [
       "\n",
       "     <input type=\"file\" id=\"files-1afdbfd6-4cd3-4d86-bece-ff10ca12c908\" name=\"files[]\" multiple disabled\n",
       "        style=\"border:none\" />\n",
       "     <output id=\"result-1afdbfd6-4cd3-4d86-bece-ff10ca12c908\">\n",
       "      Upload widget is only available when the cell has been executed in the\n",
       "      current browser session. Please rerun this cell to enable.\n",
       "      </output>\n",
       "      <script src=\"/nbextensions/google.colab/files.js\"></script> "
      ],
      "text/plain": [
       "<IPython.core.display.HTML object>"
      ]
     },
     "metadata": {},
     "output_type": "display_data"
    },
    {
     "name": "stdout",
     "output_type": "stream",
     "text": [
      "Saving test1.xml to test1.xml\n"
     ]
    }
   ],
   "source": [
    "# colab用\n",
    "from google.colab import files\n",
    "uploader = files.upload()"
   ]
  },
  {
   "cell_type": "code",
   "execution_count": null,
   "metadata": {
    "id": "SV9JDV0JM9gy"
   },
   "outputs": [],
   "source": [
    "# 開啟 JSON 檔案\n",
    "with open(\"test4.json\") as f:\n",
    "\n",
    "    # 讀取 JSON 檔案\n",
    "    p = json.load(f)"
   ]
  },
  {
   "cell_type": "code",
   "execution_count": null,
   "metadata": {
    "colab": {
     "base_uri": "https://localhost:8080/"
    },
    "executionInfo": {
     "elapsed": 514,
     "status": "ok",
     "timestamp": 1633518369121,
     "user": {
      "displayName": "李冠緯",
      "photoUrl": "https://lh3.googleusercontent.com/a/default-user=s64",
      "userId": "05109669958431367164"
     },
     "user_tz": -480
    },
    "id": "CDR05STbRd1Q",
    "outputId": "dc1c2697-3951-44cb-98a6-ae23f5e55c55"
   },
   "outputs": [
    {
     "data": {
      "text/plain": [
       "[{'call_to_action': '',\n",
       "  'full_name': 'NHS England and NHS Improvement',\n",
       "  'hashtags': '',\n",
       "  'image_url': 'https://pbs.twimg.com/media/EiWLEKiX0AE8Rr5.jpg',\n",
       "  'mentions': '',\n",
       "  'no_of_hashtags': '0',\n",
       "  'no_of_mentions': '0',\n",
       "  'no_of_replies': '0',\n",
       "  'no_of_retweets': '2',\n",
       "  'number_of_likes': '',\n",
       "  'tweet_text': '\"The NHS needs more COVID-19 convalescent plasma donors. \\n➡️ Plasma donation is safe, easy and you could save lives.\\n➡️ If you\\'ve had coronavirus, you can donate at your nearest donor centre.\\nFind out more at https',\n",
       "  'tweet_time': '2020-09-20 01:55:00',\n",
       "  'twitter_url': 'https://twitter.com/NHSEngland/status/1307604174285176832',\n",
       "  'username': 'nhsengland'},\n",
       " {'call_to_action': '',\n",
       "  'full_name': 'Rachel Clarke',\n",
       "  'hashtags': '',\n",
       "  'image_url': '',\n",
       "  'mentions': 'BorisJohnson | MattHancock | DHSCgovuk',\n",
       "  'no_of_hashtags': '0',\n",
       "  'no_of_mentions': '3',\n",
       "  'no_of_replies': '68',\n",
       "  'no_of_retweets': '371',\n",
       "  'number_of_likes': '923',\n",
       "  'tweet_text': '\"Given the current failings of test & trace - and the surging cases of Covid-19 in hospital - what reassurances can @BorisJohnson @MattHancock & @DHSCgovuk give frontline NHS & care staff that sufficient PPE is now stockpiled?\\n\\nCan they guarantee we will all have the PPE we need?\"',\n",
       "  'tweet_time': '2020-09-19 23:45:00',\n",
       "  'twitter_url': 'https://twitter.com/doctor_oxford/status/1307571650481786881',\n",
       "  'username': 'doctor_oxford'},\n",
       " {'call_to_action': '',\n",
       "  'full_name': 'Julia Hartley-Brewer',\n",
       "  'hashtags': '',\n",
       "  'image_url': '',\n",
       "  'mentions': '',\n",
       "  'no_of_hashtags': '0',\n",
       "  'no_of_mentions': '0',\n",
       "  'no_of_replies': '72',\n",
       "  'no_of_retweets': '281',\n",
       "  'number_of_likes': '745',\n",
       "  'tweet_text': '\"A second lockdown is being justified by our Government using a Covid-19 test which is all but useless. If there is evidence of a second wave, ministers and scientists need to show us that evidence. They must answer the claims in this article. They MUST know the tests are useless.… https',\n",
       "  'tweet_time': '2020-09-20 00:47:00',\n",
       "  'twitter_url': 'https://twitter.com/JuliaHB1/status/1307587212410859521',\n",
       "  'username': 'juliahb1'},\n",
       " {'call_to_action': '',\n",
       "  'full_name': 'CNN',\n",
       "  'hashtags': '',\n",
       "  'image_url': '',\n",
       "  'mentions': '',\n",
       "  'no_of_hashtags': '0',\n",
       "  'no_of_mentions': '0',\n",
       "  'no_of_replies': '63',\n",
       "  'no_of_retweets': '294',\n",
       "  'number_of_likes': '695',\n",
       "  'tweet_text': '\"Covid-19 has become a chronic condition for thousands around the world. These “long haulers\" feel they aren\\'t yet getting recognition for an illness that has disabled them for months, with no end in sight. https',\n",
       "  'tweet_time': '2020-09-20 00:34:00',\n",
       "  'twitter_url': 'https://twitter.com/CNN/status/1307583786469724161',\n",
       "  'username': 'cnn'}]"
      ]
     },
     "execution_count": 13,
     "metadata": {},
     "output_type": "execute_result"
    }
   ],
   "source": [
    "p"
   ]
  },
  {
   "cell_type": "code",
   "execution_count": null,
   "metadata": {
    "id": "4wUeidTYRkNg"
   },
   "outputs": [],
   "source": [
    "id=p[0]['full_name']"
   ]
  },
  {
   "cell_type": "code",
   "execution_count": null,
   "metadata": {
    "id": "kKFvOnfeSQck"
   },
   "outputs": [],
   "source": [
    "t=p[0]['tweet_text']"
   ]
  },
  {
   "cell_type": "code",
   "execution_count": null,
   "metadata": {
    "colab": {
     "base_uri": "https://localhost:8080/"
    },
    "executionInfo": {
     "elapsed": 8,
     "status": "ok",
     "timestamp": 1633518761683,
     "user": {
      "displayName": "李冠緯",
      "photoUrl": "https://lh3.googleusercontent.com/a/default-user=s64",
      "userId": "05109669958431367164"
     },
     "user_tz": -480
    },
    "id": "T1eHyty_TAW9",
    "outputId": "e53f2685-c017-4332-9171-d6c47a0bba83"
   },
   "outputs": [
    {
     "data": {
      "text/plain": [
       "214"
      ]
     },
     "execution_count": 19,
     "metadata": {},
     "output_type": "execute_result"
    }
   ],
   "source": [
    "len(t)"
   ]
  },
  {
   "cell_type": "code",
   "execution_count": null,
   "metadata": {
    "colab": {
     "base_uri": "https://localhost:8080/"
    },
    "executionInfo": {
     "elapsed": 284,
     "status": "ok",
     "timestamp": 1633518937288,
     "user": {
      "displayName": "李冠緯",
      "photoUrl": "https://lh3.googleusercontent.com/a/default-user=s64",
      "userId": "05109669958431367164"
     },
     "user_tz": -480
    },
    "id": "Ij9cvtF-T4qN",
    "outputId": "647b3617-e4a5-48db-bbe6-524d27fc4baa"
   },
   "outputs": [
    {
     "data": {
      "text/plain": [
       "['``',\n",
       " 'The',\n",
       " 'NHS',\n",
       " 'needs',\n",
       " 'more',\n",
       " 'COVID-19',\n",
       " 'convalescent',\n",
       " 'plasma',\n",
       " 'donors',\n",
       " '.',\n",
       " '➡️',\n",
       " 'Plasma',\n",
       " 'donation',\n",
       " 'is',\n",
       " 'safe',\n",
       " ',',\n",
       " 'easy',\n",
       " 'and',\n",
       " 'you',\n",
       " 'could',\n",
       " 'save',\n",
       " 'lives',\n",
       " '.',\n",
       " '➡️',\n",
       " 'If',\n",
       " 'you',\n",
       " \"'ve\",\n",
       " 'had',\n",
       " 'coronavirus',\n",
       " ',',\n",
       " 'you',\n",
       " 'can',\n",
       " 'donate',\n",
       " 'at',\n",
       " 'your',\n",
       " 'nearest',\n",
       " 'donor',\n",
       " 'centre',\n",
       " '.',\n",
       " 'Find',\n",
       " 'out',\n",
       " 'more',\n",
       " 'at',\n",
       " 'https']"
      ]
     },
     "execution_count": 27,
     "metadata": {},
     "output_type": "execute_result"
    }
   ],
   "source": [
    "word_tokenize(t)"
   ]
  },
  {
   "cell_type": "code",
   "execution_count": null,
   "metadata": {
    "colab": {
     "base_uri": "https://localhost:8080/"
    },
    "executionInfo": {
     "elapsed": 418,
     "status": "ok",
     "timestamp": 1633518957425,
     "user": {
      "displayName": "李冠緯",
      "photoUrl": "https://lh3.googleusercontent.com/a/default-user=s64",
      "userId": "05109669958431367164"
     },
     "user_tz": -480
    },
    "id": "xc28GH4FUIxn",
    "outputId": "05f9d91f-4ecd-4e3d-ea2d-055fff263eea"
   },
   "outputs": [
    {
     "data": {
      "text/plain": [
       "['\"The NHS needs more COVID-19 convalescent plasma donors.',\n",
       " '➡️ Plasma donation is safe, easy and you could save lives.',\n",
       " \"➡️ If you've had coronavirus, you can donate at your nearest donor centre.\",\n",
       " 'Find out more at https']"
      ]
     },
     "execution_count": 28,
     "metadata": {},
     "output_type": "execute_result"
    }
   ],
   "source": [
    "sent_tokenize(t)"
   ]
  },
  {
   "cell_type": "code",
   "execution_count": null,
   "metadata": {
    "colab": {
     "base_uri": "https://localhost:8080/"
    },
    "executionInfo": {
     "elapsed": 438,
     "status": "ok",
     "timestamp": 1633519375507,
     "user": {
      "displayName": "李冠緯",
      "photoUrl": "https://lh3.googleusercontent.com/a/default-user=s64",
      "userId": "05109669958431367164"
     },
     "user_tz": -480
    },
    "id": "7Smzg8F-USo-",
    "outputId": "9530574e-bdc3-41d7-cee9-c11c90f67948"
   },
   "outputs": [
    {
     "data": {
      "text/plain": [
       "['NHS England and NHS Improvement']"
      ]
     },
     "execution_count": 30,
     "metadata": {},
     "output_type": "execute_result"
    }
   ],
   "source": [
    "sent_tokenize(id)"
   ]
  },
  {
   "cell_type": "code",
   "execution_count": null,
   "metadata": {
    "colab": {
     "base_uri": "https://localhost:8080/"
    },
    "executionInfo": {
     "elapsed": 458,
     "status": "ok",
     "timestamp": 1633520130322,
     "user": {
      "displayName": "李冠緯",
      "photoUrl": "https://lh3.googleusercontent.com/a/default-user=s64",
      "userId": "05109669958431367164"
     },
     "user_tz": -480
    },
    "id": "_Xvw6WSaV4-x",
    "outputId": "65011765-4aec-49a8-db94-dcf1beebf4a3"
   },
   "outputs": [
    {
     "data": {
      "text/plain": [
       "{'CNN': '\"Covid-19 has become a chronic condition for thousands around the world. These “long haulers\" feel they aren\\'t yet getting recognition for an illness that has disabled them for months, with no end in sight. https',\n",
       " 'Julia Hartley-Brewer': '\"A second lockdown is being justified by our Government using a Covid-19 test which is all but useless. If there is evidence of a second wave, ministers and scientists need to show us that evidence. They must answer the claims in this article. They MUST know the tests are useless.… https',\n",
       " 'NHS England and NHS Improvement': '\"The NHS needs more COVID-19 convalescent plasma donors. \\n➡️ Plasma donation is safe, easy and you could save lives.\\n➡️ If you\\'ve had coronavirus, you can donate at your nearest donor centre.\\nFind out more at https',\n",
       " 'Rachel Clarke': '\"Given the current failings of test & trace - and the surging cases of Covid-19 in hospital - what reassurances can @BorisJohnson @MattHancock & @DHSCgovuk give frontline NHS & care staff that sufficient PPE is now stockpiled?\\n\\nCan they guarantee we will all have the PPE we need?\"'}"
      ]
     },
     "execution_count": 33,
     "metadata": {},
     "output_type": "execute_result"
    }
   ],
   "source": [
    "td = {i['full_name']: i['tweet_text'] for i in p}\n",
    "td"
   ]
  },
  {
   "cell_type": "code",
   "execution_count": null,
   "metadata": {
    "colab": {
     "base_uri": "https://localhost:8080/"
    },
    "executionInfo": {
     "elapsed": 307,
     "status": "ok",
     "timestamp": 1633520303874,
     "user": {
      "displayName": "李冠緯",
      "photoUrl": "https://lh3.googleusercontent.com/a/default-user=s64",
      "userId": "05109669958431367164"
     },
     "user_tz": -480
    },
    "id": "7SkqRIkWZGcg",
    "outputId": "7508ee64-6d82-4528-c157-b2994eb95eb0"
   },
   "outputs": [
    {
     "data": {
      "text/plain": [
       "1062"
      ]
     },
     "execution_count": 37,
     "metadata": {},
     "output_type": "execute_result"
    }
   ],
   "source": [
    "ch=sum([len(i['full_name'])+len(i['tweet_text']) for i in p])\n",
    "ch"
   ]
  },
  {
   "cell_type": "code",
   "execution_count": null,
   "metadata": {
    "colab": {
     "base_uri": "https://localhost:8080/"
    },
    "executionInfo": {
     "elapsed": 301,
     "status": "ok",
     "timestamp": 1633520321480,
     "user": {
      "displayName": "李冠緯",
      "photoUrl": "https://lh3.googleusercontent.com/a/default-user=s64",
      "userId": "05109669958431367164"
     },
     "user_tz": -480
    },
    "id": "dv76wakgYX5B",
    "outputId": "5c643cdb-2cdc-4962-fb7b-6f9c439017ce"
   },
   "outputs": [
    {
     "data": {
      "text/plain": [
       "207"
      ]
     },
     "execution_count": 38,
     "metadata": {},
     "output_type": "execute_result"
    }
   ],
   "source": [
    "word=sum([len(word_tokenize(i['full_name']))+len(word_tokenize(i['tweet_text'])) for i in p])\n",
    "word"
   ]
  },
  {
   "cell_type": "code",
   "execution_count": null,
   "metadata": {
    "colab": {
     "base_uri": "https://localhost:8080/"
    },
    "executionInfo": {
     "elapsed": 445,
     "status": "ok",
     "timestamp": 1633520465535,
     "user": {
      "displayName": "李冠緯",
      "photoUrl": "https://lh3.googleusercontent.com/a/default-user=s64",
      "userId": "05109669958431367164"
     },
     "user_tz": -480
    },
    "id": "4RCZSn1mZbv0",
    "outputId": "2a03660b-70ca-4160-f426-8f09d2da4648"
   },
   "outputs": [
    {
     "data": {
      "text/plain": [
       "17"
      ]
     },
     "execution_count": 42,
     "metadata": {},
     "output_type": "execute_result"
    }
   ],
   "source": [
    "sent=sum([len(sent_tokenize(i['full_name']))+len(sent_tokenize(i['tweet_text'])) for i in p])\n",
    "sent"
   ]
  },
  {
   "cell_type": "code",
   "execution_count": null,
   "metadata": {
    "id": "zT9D4zqgZkm3"
   },
   "outputs": [],
   "source": [
    "std={id:re.sub(\"chronic\",\"**chronic**\", text) for id, text in td.items()}"
   ]
  },
  {
   "cell_type": "code",
   "execution_count": null,
   "metadata": {
    "colab": {
     "base_uri": "https://localhost:8080/"
    },
    "executionInfo": {
     "elapsed": 296,
     "status": "ok",
     "timestamp": 1633520927415,
     "user": {
      "displayName": "李冠緯",
      "photoUrl": "https://lh3.googleusercontent.com/a/default-user=s64",
      "userId": "05109669958431367164"
     },
     "user_tz": -480
    },
    "id": "oJRshWM3bSP8",
    "outputId": "37bec702-de37-4f21-c5a7-a785b6931ee4"
   },
   "outputs": [
    {
     "data": {
      "text/plain": [
       "{'CNN': '\"Covid-19 has become a **chronic** condition for thousands around the world. These “long haulers\" feel they aren\\'t yet getting recognition for an illness that has disabled them for months, with no end in sight. https',\n",
       " 'Julia Hartley-Brewer': '\"A second lockdown is being justified by our Government using a Covid-19 test which is all but useless. If there is evidence of a second wave, ministers and scientists need to show us that evidence. They must answer the claims in this article. They MUST know the tests are useless.… https',\n",
       " 'NHS England and NHS Improvement': '\"The NHS needs more COVID-19 convalescent plasma donors. \\n➡️ Plasma donation is safe, easy and you could save lives.\\n➡️ If you\\'ve had coronavirus, you can donate at your nearest donor centre.\\nFind out more at https',\n",
       " 'Rachel Clarke': '\"Given the current failings of test & trace - and the surging cases of Covid-19 in hospital - what reassurances can @BorisJohnson @MattHancock & @DHSCgovuk give frontline NHS & care staff that sufficient PPE is now stockpiled?\\n\\nCan they guarantee we will all have the PPE we need?\"'}"
      ]
     },
     "execution_count": 49,
     "metadata": {},
     "output_type": "execute_result"
    }
   ],
   "source": [
    "std"
   ]
  },
  {
   "cell_type": "code",
   "execution_count": 7,
   "metadata": {
    "executionInfo": {
     "elapsed": 4306,
     "status": "ok",
     "timestamp": 1633664249162,
     "user": {
      "displayName": "李冠緯",
      "photoUrl": "https://lh3.googleusercontent.com/a/default-user=s64",
      "userId": "05109669958431367164"
     },
     "user_tz": -480
    },
    "id": "eFOX0ADDbz4x"
   },
   "outputs": [],
   "source": [
    "tree = ET.parse('test1.xml')\n",
    "root = tree.getroot()"
   ]
  },
  {
   "cell_type": "code",
   "execution_count": 8,
   "metadata": {
    "executionInfo": {
     "elapsed": 14,
     "status": "ok",
     "timestamp": 1633664253733,
     "user": {
      "displayName": "李冠緯",
      "photoUrl": "https://lh3.googleusercontent.com/a/default-user=s64",
      "userId": "05109669958431367164"
     },
     "user_tz": -480
    },
    "id": "lzVYLxsvcxKB"
   },
   "outputs": [],
   "source": [
    "text=\"\"\n",
    "for t in root.iter('AbstractText'):\n",
    "  text+=t.text"
   ]
  },
  {
   "cell_type": "code",
   "execution_count": 9,
   "metadata": {
    "executionInfo": {
     "elapsed": 427,
     "status": "ok",
     "timestamp": 1633664257028,
     "user": {
      "displayName": "李冠緯",
      "photoUrl": "https://lh3.googleusercontent.com/a/default-user=s64",
      "userId": "05109669958431367164"
     },
     "user_tz": -480
    },
    "id": "7sdbA9bkdGb9"
   },
   "outputs": [],
   "source": [
    "title=root[0][0][2][1].text"
   ]
  },
  {
   "cell_type": "code",
   "execution_count": 10,
   "metadata": {
    "colab": {
     "base_uri": "https://localhost:8080/",
     "height": 35
    },
    "executionInfo": {
     "elapsed": 10,
     "status": "ok",
     "timestamp": 1633664259912,
     "user": {
      "displayName": "李冠緯",
      "photoUrl": "https://lh3.googleusercontent.com/a/default-user=s64",
      "userId": "05109669958431367164"
     },
     "user_tz": -480
    },
    "id": "OSuLxjHXeDzx",
    "outputId": "027525b7-1316-48d0-b4a4-c605f0988287"
   },
   "outputs": [
    {
     "data": {
      "application/vnd.google.colaboratory.intrinsic+json": {
       "type": "string"
      },
      "text/plain": [
       "'Dental care management during the COVID-19 outbreak.'"
      ]
     },
     "execution_count": 10,
     "metadata": {},
     "output_type": "execute_result"
    }
   ],
   "source": [
    "title"
   ]
  },
  {
   "cell_type": "code",
   "execution_count": null,
   "metadata": {
    "colab": {
     "base_uri": "https://localhost:8080/",
     "height": 137
    },
    "executionInfo": {
     "elapsed": 305,
     "status": "ok",
     "timestamp": 1633521571558,
     "user": {
      "displayName": "李冠緯",
      "photoUrl": "https://lh3.googleusercontent.com/a/default-user=s64",
      "userId": "05109669958431367164"
     },
     "user_tz": -480
    },
    "id": "H1b1rPooePwq",
    "outputId": "e86d3bca-2402-4edc-96e4-c4195ab9a6f0"
   },
   "outputs": [
    {
     "data": {
      "application/vnd.google.colaboratory.intrinsic+json": {
       "type": "string"
      },
      "text/plain": [
       "'The level of preparedness of the healthcare system plays an important role in management of coronavirus disease 2019 (COVID-19). This study attempted to devise a comprehensive protocol regarding dental care during the COVID-19 outbreak.Embase, PubMed, and Google Scholar were searched until March 2020 for relevant papers. Sixteen English papers were enrolled to answer questions about procedures that are allowed to perform during the COVID-19 outbreak, patients who are in priority to receive dental care services, the conditions and necessities for patient admission, waiting room and operatory room, and personal protective equipment (PPE) that is necessary for dental clinicians and the office staff.Dental treatment should be limited to patients with urgent or emergency situation. By screening questionnaires for COVID-19, patients are divided into three groups of (a) apparently healthy, (b) suspected for COVID-19, and (c) confirmed for COVID-19. Separate waiting and operating rooms should be assigned to each group of patients to minimize the risk of disease transmission. All groups should be treated with the same protective measures with regard to PPE for the dental clinicians and staff.The virological and immunological effects of the immunomodulatory drugs used for COVID-19 remain unknown. We evaluated the impact of interleukin (IL)-6 blockade with tocilizumab on SARS-CoV-2 viral kinetics and the antibody response in patients with COVID-19.Prospective cohort study in patients admitted with COVID-19. Serial nasopharyngeal and plasma samples were measured for SARS-CoV-2 RNA and S-IgG/N-IgG titers, respectively.138 patients with confirmed infection were included; 76 (55%) underwent IL-6 blockade. Median initial SOFA (p\\xa0=\\xa00•016) and SARS-CoV-2 viral load (p<0•001, Mann-Whitney-Wilcoxon test) were significantly higher among anti-IL-6 users. Patients under IL-6 blockade showed delayed viral clearance in the Kaplan-Meier curves (HR 0•35 [95%CI] [0•15-0•81], log-rank p\\xa0=\\xa00•014), but an adjusted propensity score matching model did not demonstrate a significant relationship of IL-6 blockade with viral clearance (HR 1•63 [0•35-7•7]). Cox regression showed an inverse association between SARS-CoV-2 RNA clearance and the initial viral load (HR 0•35 [0•11-0•89]). Patients under the IL-6 blocker showed shorter median time to seropositivity, higher peak antibody titers, and higher cumulative proportion of seropositivity in the Kaplan Meier curves (HR 3•1 [1•9-5] for S-IgG; and HR 3•0 [1•9-4•9] for N-IgG; log-rank p<0•001 for both). However, no significant differences between groups were found in either S-IgG (HR 1•56 [0•41-6•0]) nor N-IgG (HR 0•96 [0•26-3•5]) responses in an adjusted propensity score analysis.Our results suggest that in patients infected with SARS-CoV-2, IL-6 blockade does not impair the viral specific antibody responses. Although a delayed viral clearance was observed, it was driven by a higher initial viral load. The study supports the safety of this therapy in patients with COVID-19.Instituto de salud Carlos III (Spain).The change in practice in connection with fetal growth retardation was studied using two national enquiries on pregnancy and delivery carried out in 1976 and 1981. These showed important changes in practice between the two studies. Although ultrasound and fetal heart rate monitoring are widely used and are shown as being very important for pregnancies overall, they are not used more often in cases of fetal growth retardation. On the other hand, when they have been started these examinations are more often easily repeated. Recourse to hormonal essay has not changed in intra-uterine growth retardation cases (17%). The percentage of caesareans carried out for retardation rose from 9.4 to 17.4% and these caesarean operations were carried out earlier. 50% of this increase is due to the decision to carry out a caesarean before labour starts. This more aggressive tendency means that the number of premature babies in growth retarded infants was higher in 1981, although the difference not significant and this practice would need further study. There are improvements in neonatal health as a result of the changes although one cannot pinpoint for certain which procedure has caused this improvement.'"
      ]
     },
     "execution_count": 60,
     "metadata": {},
     "output_type": "execute_result"
    }
   ],
   "source": [
    "text"
   ]
  },
  {
   "cell_type": "code",
   "execution_count": null,
   "metadata": {
    "colab": {
     "base_uri": "https://localhost:8080/",
     "height": 137
    },
    "executionInfo": {
     "elapsed": 287,
     "status": "ok",
     "timestamp": 1633521929149,
     "user": {
      "displayName": "李冠緯",
      "photoUrl": "https://lh3.googleusercontent.com/a/default-user=s64",
      "userId": "05109669958431367164"
     },
     "user_tz": -480
    },
    "id": "g6g5jRhMeRNT",
    "outputId": "59a10504-e7f5-434f-cd48-581b9eafe91a"
   },
   "outputs": [
    {
     "data": {
      "application/vnd.google.colaboratory.intrinsic+json": {
       "type": "string"
      },
      "text/plain": [
       "'The level of preparedness of the healthcare system plays an important role in management of coronavirus disease 2019 (**COVID-19**). This study attempted to devise a comprehensive protocol regarding dental care during the **COVID-19** outbreak.Embase, PubMed, and Google Scholar were searched until March 2020 for relevant papers. Sixteen English papers were enrolled to answer questions about procedures that are allowed to perform during the **COVID-19** outbreak, patients who are in priority to receive dental care services, the conditions and necessities for patient admission, waiting room and operatory room, and personal protective equipment (PPE) that is necessary for dental clinicians and the office staff.Dental treatment should be limited to patients with urgent or emergency situation. By screening questionnaires for **COVID-19**, patients are divided into three groups of (a) apparently healthy, (b) suspected for **COVID-19**, and (c) confirmed for **COVID-19**. Separate waiting and operating rooms should be assigned to each group of patients to minimize the risk of disease transmission. All groups should be treated with the same protective measures with regard to PPE for the dental clinicians and staff.The virological and immunological effects of the immunomodulatory drugs used for **COVID-19** remain unknown. We evaluated the impact of interleukin (IL)-6 blockade with tocilizumab on SARS-CoV-2 viral kinetics and the antibody response in patients with **COVID-19**.Prospective cohort study in patients admitted with **COVID-19**. Serial nasopharyngeal and plasma samples were measured for SARS-CoV-2 RNA and S-IgG/N-IgG titers, respectively.138 patients with confirmed infection were included; 76 (55%) underwent IL-6 blockade. Median initial SOFA (p\\xa0=\\xa00•016) and SARS-CoV-2 viral load (p<0•001, Mann-Whitney-Wilcoxon test) were significantly higher among anti-IL-6 users. Patients under IL-6 blockade showed delayed viral clearance in the Kaplan-Meier curves (HR 0•35 [95%CI] [0•15-0•81], log-rank p\\xa0=\\xa00•014), but an adjusted propensity score matching model did not demonstrate a significant relationship of IL-6 blockade with viral clearance (HR 1•63 [0•35-7•7]). Cox regression showed an inverse association between SARS-CoV-2 RNA clearance and the initial viral load (HR 0•35 [0•11-0•89]). Patients under the IL-6 blocker showed shorter median time to seropositivity, higher peak antibody titers, and higher cumulative proportion of seropositivity in the Kaplan Meier curves (HR 3•1 [1•9-5] for S-IgG; and HR 3•0 [1•9-4•9] for N-IgG; log-rank p<0•001 for both). However, no significant differences between groups were found in either S-IgG (HR 1•56 [0•41-6•0]) nor N-IgG (HR 0•96 [0•26-3•5]) responses in an adjusted propensity score analysis.Our results suggest that in patients infected with SARS-CoV-2, IL-6 blockade does not impair the viral specific antibody responses. Although a delayed viral clearance was observed, it was driven by a higher initial viral load. The study supports the safety of this therapy in patients with **COVID-19**.Instituto de salud Carlos III (Spain).The change in practice in connection with fetal growth retardation was studied using two national enquiries on pregnancy and delivery carried out in 1976 and 1981. These showed important changes in practice between the two studies. Although ultrasound and fetal heart rate monitoring are widely used and are shown as being very important for pregnancies overall, they are not used more often in cases of fetal growth retardation. On the other hand, when they have been started these examinations are more often easily repeated. Recourse to hormonal essay has not changed in intra-uterine growth retardation cases (17%). The percentage of caesareans carried out for retardation rose from 9.4 to 17.4% and these caesarean operations were carried out earlier. 50% of this increase is due to the decision to carry out a caesarean before labour starts. This more aggressive tendency means that the number of premature babies in growth retarded infants was higher in 1981, although the difference not significant and this practice would need further study. There are improvements in neonatal health as a result of the changes although one cannot pinpoint for certain which procedure has caused this improvement.'"
      ]
     },
     "execution_count": 69,
     "metadata": {},
     "output_type": "execute_result"
    }
   ],
   "source": [
    "stext=re.sub(\"COVID-19\",\"**COVID-19**\", text)\n",
    "stext"
   ]
  },
  {
   "cell_type": "code",
   "execution_count": 1,
   "metadata": {
    "colab": {
     "base_uri": "https://localhost:8080/",
     "height": 180
    },
    "executionInfo": {
     "elapsed": 20,
     "status": "error",
     "timestamp": 1633663978851,
     "user": {
      "displayName": "李冠緯",
      "photoUrl": "https://lh3.googleusercontent.com/a/default-user=s64",
      "userId": "05109669958431367164"
     },
     "user_tz": -480
    },
    "id": "fLsu67Cefojf",
    "outputId": "19647e74-876e-4399-bf6b-282660a76925"
   },
   "outputs": [
    {
     "ename": "NameError",
     "evalue": "ignored",
     "output_type": "error",
     "traceback": [
      "\u001b[0;31m---------------------------------------------------------------------------\u001b[0m",
      "\u001b[0;31mNameError\u001b[0m                                 Traceback (most recent call last)",
      "\u001b[0;32m<ipython-input-1-291f89a8d81f>\u001b[0m in \u001b[0;36m<module>\u001b[0;34m()\u001b[0m\n\u001b[1;32m      1\u001b[0m \u001b[0;32mfrom\u001b[0m \u001b[0mgoogle\u001b[0m\u001b[0;34m.\u001b[0m\u001b[0mcolab\u001b[0m \u001b[0;32mimport\u001b[0m \u001b[0mfiles\u001b[0m\u001b[0;34m\u001b[0m\u001b[0;34m\u001b[0m\u001b[0m\n\u001b[0;32m----> 2\u001b[0;31m \u001b[0muploader\u001b[0m \u001b[0;34m=\u001b[0m \u001b[0mfile\u001b[0m\u001b[0;34m.\u001b[0m\u001b[0mupload\u001b[0m\u001b[0;34m(\u001b[0m\u001b[0;34m)\u001b[0m\u001b[0;34m\u001b[0m\u001b[0;34m\u001b[0m\u001b[0m\n\u001b[0m",
      "\u001b[0;31mNameError\u001b[0m: name 'file' is not defined"
     ]
    }
   ],
   "source": [
    "from google.colab import files\n",
    "uploader = file.upload()"
   ]
  },
  {
   "cell_type": "code",
   "execution_count": null,
   "metadata": {
    "id": "AU4fgp-29cjS"
   },
   "outputs": [],
   "source": []
  }
 ],
 "metadata": {
  "colab": {
   "authorship_tag": "ABX9TyPlr8hbpCRhr07TCieaIwCP",
   "collapsed_sections": [],
   "name": "IR01.ipynb",
   "provenance": []
  },
  "kernelspec": {
   "display_name": "Python 3",
   "language": "python",
   "name": "python3"
  },
  "language_info": {
   "codemirror_mode": {
    "name": "ipython",
    "version": 3
   },
   "file_extension": ".py",
   "mimetype": "text/x-python",
   "name": "python",
   "nbconvert_exporter": "python",
   "pygments_lexer": "ipython3",
   "version": "3.7.6"
  }
 },
 "nbformat": 4,
 "nbformat_minor": 1
}
